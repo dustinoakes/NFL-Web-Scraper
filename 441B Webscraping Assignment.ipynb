{
 "cells": [
  {
   "cell_type": "code",
   "execution_count": 1,
   "metadata": {},
   "outputs": [],
   "source": [
    "import requests\n",
    "from bs4 import BeautifulSoup\n",
    "from fake_useragent import UserAgent\n",
    "import pandas as pd\n",
    "import matplotlib as plt\n",
    "import re"
   ]
  },
  {
   "cell_type": "code",
   "execution_count": 2,
   "metadata": {},
   "outputs": [],
   "source": [
    "# Get data from URL with requests.get\n",
    "ua = UserAgent()\n",
    "\n",
    "URL = 'https://www.nfl.com/stats/player-stats/'\n",
    "page = requests.get(URL, headers={'User-Agent': ua.chrome})\n",
    "\n",
    "# Parse HTML with BeautifulSoup\n",
    "soup = BeautifulSoup(page.content, 'html.parser')\n",
    "\n",
    "table = soup.find('table')\n",
    "table_data = table.find_all('tr')"
   ]
  },
  {
   "cell_type": "code",
   "execution_count": 3,
   "metadata": {},
   "outputs": [],
   "source": [
    "# Getting all the headings\n",
    "headings = []\n",
    "for th in table_data[0].find_all(\"th\"):\n",
    "    headings.append(th.text.replace('\\n', ' ').strip())\n",
    "\n",
    "# Getting the actual stats\n",
    "table_stats = []\n",
    "for tr in table.tbody.find_all(\"tr\"):\n",
    "    t_row = {}\n",
    "\n",
    "    for td, th in zip(tr.find_all(\"td\"), headings):\n",
    "        t_row[th] = td.text.replace('\\n', '').strip()\n",
    "    table_stats.append(t_row)"
   ]
  },
  {
   "cell_type": "code",
   "execution_count": 4,
   "metadata": {},
   "outputs": [
    {
     "name": "stdout",
     "output_type": "stream",
     "text": [
      "                Player Pass Yds Yds/Att  Att  Cmp  Cmp %  TD INT   Rate  1st  \\\n",
      "0       Deshaun Watson     4823     8.9  544  382  0.702  33   7  112.4  221   \n",
      "1      Patrick Mahomes     4740     8.1  588  390  0.663  38   6  108.2  238   \n",
      "2            Tom Brady     4633     7.6  610  401  0.657  40  12  102.2  233   \n",
      "3            Matt Ryan     4581     7.3  626  407   0.65  26  11   93.3  242   \n",
      "4           Josh Allen     4544     7.9  572  396  0.692  37  10  107.2  228   \n",
      "5       Justin Herbert     4336     7.3  595  396  0.666  31  10   98.3  216   \n",
      "6        Aaron Rodgers     4299     8.2  526  372  0.707  48   5  121.5  216   \n",
      "7         Kirk Cousins     4265     8.3  516  349  0.676  35  13    105  212   \n",
      "8       Russell Wilson     4212     7.5  558  384  0.688  40  13  105.1  213   \n",
      "9        Philip Rivers     4169     7.7  543  369   0.68  24  11     97  200   \n",
      "10          Derek Carr     4103     7.9  517  348  0.673  27   9  101.4  193   \n",
      "11    Matthew Stafford     4084     7.7  528  339  0.642  26  10   96.3  205   \n",
      "12        Kyler Murray     3971     7.1  558  375  0.672  26  12   94.3  205   \n",
      "13          Jared Goff     3952     7.2  552  370   0.67  20  13     90  194   \n",
      "14      Ryan Tannehill     3819     7.9  481  315  0.655  33   7  106.5  202   \n",
      "15  Ben Roethlisberger     3803     6.3  608  399  0.656  33  10   94.1  193   \n",
      "16   Teddy Bridgewater     3733     7.6  492  340  0.691  15  11   92.1  174   \n",
      "17      Baker Mayfield     3563     7.3  486  305  0.628  26   8   95.9  188   \n",
      "18        Daniel Jones     2943     6.6  448  280  0.625  11  10   80.4  158   \n",
      "19          Drew Brees     2942     7.5  390  275  0.705  24   6  106.4  149   \n",
      "20           Drew Lock     2933     6.6  443  254  0.573  16  15   75.4  145   \n",
      "21       Lamar Jackson     2757     7.3  376  242  0.644  26   9   99.3  138   \n",
      "22          Joe Burrow     2688     6.7  404  264  0.653  13   5   89.8  150   \n",
      "23          Cam Newton     2657     7.2  368  242  0.658   8  10   82.9  133   \n",
      "24        Carson Wentz     2620       6  437  251  0.574  16  15   72.8  130   \n",
      "\n",
      "     1st% 20+ 40+ Lng Sck SckY  \n",
      "0   0.406  69  11  77  49  293  \n",
      "1   0.405  67   8  75  22  147  \n",
      "2   0.382  63  12  50  21  143  \n",
      "3   0.387  58   8  63  41  257  \n",
      "4   0.399  62   8  55  26  159  \n",
      "5   0.363  51  10  72  32  218  \n",
      "6   0.411  57  14  78  20  182  \n",
      "7   0.411  58   7  71  39  256  \n",
      "8   0.382  45  11  62  47  301  \n",
      "9   0.368  56   8  55  19  118  \n",
      "10  0.373  54  12  85  26  150  \n",
      "11  0.388  54   8  73  38  254  \n",
      "12  0.367  44  14  80  27  176  \n",
      "13  0.351  47   6  56  23  161  \n",
      "14   0.42  44  13  75  24  173  \n",
      "15  0.317  43   4  84  13  118  \n",
      "16  0.354  49   8  75  31  205  \n",
      "17  0.387  43   5  75  26  162  \n",
      "18  0.353  31   5  53  45  286  \n",
      "19  0.382  31   8  52  13   89  \n",
      "20  0.327  38   8  92  19  123  \n",
      "21  0.367  37   4  47  29  160  \n",
      "22  0.371  23   3  67  32  231  \n",
      "23  0.361  31   3  50  31  195  \n",
      "24  0.297  27   6  59  50  326  \n"
     ]
    }
   ],
   "source": [
    "# Converting to pandas df\n",
    "stats_df = pd.DataFrame(table_stats)\n",
    "print(stats_df)\n",
    "\n",
    "# Convert all stats (but not Player Names) to numeric for data analysis\n",
    "cols = stats_df.columns\n",
    "stats_df[cols[1:]] = stats_df[cols[1:]].apply(pd.to_numeric, errors='coerce')\n",
    "\n",
    "# Writing to CSV\n",
    "stats_df.to_csv('NFL-Stats.csv')"
   ]
  },
  {
   "cell_type": "code",
   "execution_count": 5,
   "metadata": {},
   "outputs": [
    {
     "data": {
      "text/plain": [
       "<matplotlib.axes._subplots.AxesSubplot at 0x16a87e93670>"
      ]
     },
     "execution_count": 5,
     "metadata": {},
     "output_type": "execute_result"
    },
    {
     "data": {
      "image/png": "[encoded data removed]",
      "text/plain": [
       "<Figure size 432x288 with 1 Axes>"
      ]
     },
     "metadata": {
      "needs_background": "light"
     },
     "output_type": "display_data"
    }
   ],
   "source": [
    "# Example of visualization\n",
    "stats_df.plot(x='Player', y='Pass Yds', kind='bar')"
   ]
  },
  {
   "cell_type": "code",
   "execution_count": 6,
   "metadata": {},
   "outputs": [
    {
     "name": "stdout",
     "output_type": "stream",
     "text": [
      "[[], [], [], [], [], [], [], [], [], [], [], ['20'], ['40'], [], [], []]\n"
     ]
    }
   ],
   "source": [
    "# Using RegEx (find stat categories with two-digit integers in them)\n",
    "pattern = re.compile(r'[0-9]{2}')\n",
    "matches = []\n",
    "for i in range(0,len(headings)):\n",
    "    matches.append(pattern.findall(headings[i]))\n",
    "print(matches)"
   ]
  }
 ],
 "metadata": {
  "kernelspec": {
   "display_name": "Python 3",
   "language": "python",
   "name": "python3"
  },
  "language_info": {
   "codemirror_mode": {
    "name": "ipython",
    "version": 3
   },
   "file_extension": ".py",
   "mimetype": "text/x-python",
   "name": "python",
   "nbconvert_exporter": "python",
   "pygments_lexer": "ipython3",
   "version": "3.8.3"
  }
 },
 "nbformat": 4,
 "nbformat_minor": 4
}
